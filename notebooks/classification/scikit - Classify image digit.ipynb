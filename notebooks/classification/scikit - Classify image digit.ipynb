{
 "cells": [
  {
   "cell_type": "code",
   "execution_count": 17,
   "metadata": {},
   "outputs": [],
   "source": [
    "import numpy as np\n",
    "import matplotlib.pyplot as pt\n",
    "import pandas as pd\n",
    "\n",
    "from sklearn.tree import DecisionTreeClassifier\n",
    "\n",
    "data = pd.read_csv(\"./train.csv\").values\n",
    "clf = DecisionTreeClassifier()\n",
    "\n",
    "# training dataset\n",
    "xtrain = data[0:30000, 1:]\n",
    "train_label = data[0:30000,0]\n",
    "clf.fit(xtrain, train_label)\n",
    "\n",
    "# testing data\n",
    "xtest = data[21000:, 1:]\n",
    "actual_label = data[21000:, 0]"
   ]
  },
  {
   "cell_type": "code",
   "execution_count": 2,
   "metadata": {},
   "outputs": [],
   "source": [
    "%matplotlib inline"
   ]
  },
  {
   "cell_type": "code",
   "execution_count": 22,
   "metadata": {},
   "outputs": [
    {
     "data": {
      "image/png": "[encoded data removed]",
      "text/plain": [
       "<Figure size 432x288 with 1 Axes>"
      ]
     },
     "metadata": {
      "needs_background": "light"
     },
     "output_type": "display_data"
    }
   ],
   "source": [
    "test_index = 204\n",
    "\n",
    "d = xtest[test_index]\n",
    "d.shape=(28,28)\n",
    "pt.imshow(255-d,cmap='gray')\n",
    "pt.show()"
   ]
  },
  {
   "cell_type": "code",
   "execution_count": 4,
   "metadata": {},
   "outputs": [
    {
     "name": "stdout",
     "output_type": "stream",
     "text": [
      "\n",
      "                                                        \n",
      "                                                        \n",
      "                                                        \n",
      "                                                        \n",
      "                                                        \n",
      "                                                        \n",
      "                                                        \n",
      "            1 1 1 1             1 1 1 1                 \n",
      "            1 1 1 1 1 1 1 1 1 1 1 1 1 1 1               \n",
      "          1 1 1 1 1 1 1 1 1 1 1 1 1 1 1 1 1             \n",
      "          1 1 1 1 1 1 1 1 1 1 1 1 1 1 1 1 1             \n",
      "            1     1 1 1 1 1 1 1 1 1 1 1 1               \n",
      "                                1 1 1 1 1               \n",
      "                                1 1 1 1                 \n",
      "                              1 1 1 1 1                 \n",
      "                              1 1 1 1 1                 \n",
      "                              1 1 1 1                   \n",
      "                            1 1 1 1 1                   \n",
      "                            1 1 1 1 1                   \n",
      "                            1 1 1 1                     \n",
      "                          1 1 1 1 1                     \n",
      "                          1 1 1 1 1                     \n",
      "                          1 1 1 1                       \n",
      "                        1 1 1 1 1                       \n",
      "                        1 1 1 1 1                       \n",
      "                        1 1 1 1                         \n",
      "                          1 1                           \n",
      "                                                        "
     ]
    }
   ],
   "source": [
    "for x in range(0, 28):\n",
    "    print()\n",
    "    for y in range(0, 28):\n",
    "        print(1 if xtest[test_index][x*28 + y] >= 128 else ' ', end=' ')"
   ]
  },
  {
   "cell_type": "code",
   "execution_count": 5,
   "metadata": {},
   "outputs": [
    {
     "data": {
      "text/plain": [
       "array([7])"
      ]
     },
     "execution_count": 5,
     "metadata": {},
     "output_type": "execute_result"
    }
   ],
   "source": [
    "clf.predict([xtest[test_index]])"
   ]
  },
  {
   "cell_type": "code",
   "execution_count": 6,
   "metadata": {},
   "outputs": [
    {
     "data": {
      "text/plain": [
       "'Accuracy = 83.81428571428572'"
      ]
     },
     "execution_count": 6,
     "metadata": {},
     "output_type": "execute_result"
    }
   ],
   "source": [
    "p = clf.predict(xtest)\n",
    "\n",
    "count = 0\n",
    "for i in range(0, len(xtest)):\n",
    "    count += 1 if p[i] == actual_label[i] else 0\n",
    "    \n",
    "\"Accuracy = {}\".format(count / len(xtest) * 100)"
   ]
  },
  {
   "cell_type": "code",
   "execution_count": 48,
   "metadata": {},
   "outputs": [
    {
     "name": "stdout",
     "output_type": "stream",
     "text": [
      "\n",
      "                                                        \n",
      "                                                        \n",
      "                  1 1 1 1 1 1 1 1 1 1                   \n",
      "                1 1 1 1 1 1 1 1 1 1 1 1 1 1             \n",
      "              1 1 1 1 1 1 1 1 1 1 1 1 1 1 1 1           \n",
      "              1 1 1 1               1 1 1 1 1           \n",
      "              1 1 1                     1 1 1           \n",
      "              1 1 1                   1 1 1 1           \n",
      "              1 1 1                   1 1 1 1           \n",
      "              1 1 1 1               1 1 1 1             \n",
      "                1 1 1               1 1 1 1             \n",
      "                1 1 1             1 1 1 1               \n",
      "                1 1 1 1       1 1 1 1 1 1               \n",
      "                1 1 1 1 1   1 1 1 1 1 1                 \n",
      "                  1 1 1 1 1 1 1 1 1 1                   \n",
      "                  1 1 1 1 1 1 1 1                       \n",
      "                    1 1 1 1 1 1 1 1 1                   \n",
      "                  1 1 1 1 1 1 1 1 1 1 1                 \n",
      "                1 1 1 1 1     1 1 1 1 1 1               \n",
      "                1 1 1 1           1 1 1 1 1             \n",
      "                1 1 1               1 1 1 1             \n",
      "                1 1 1                 1 1 1             \n",
      "                1 1 1 1               1 1 1             \n",
      "                1 1 1 1 1 1 1 1 1 1 1 1 1 1             \n",
      "                1 1 1 1 1 1 1 1 1 1 1 1 1 1             \n",
      "                  1 1 1 1 1 1 1 1 1 1 1 1               \n",
      "                                                        \n",
      "                                                        "
     ]
    },
    {
     "data": {
      "text/plain": [
       "array([4])"
      ]
     },
     "execution_count": 48,
     "metadata": {},
     "output_type": "execute_result"
    }
   ],
   "source": [
    "from PIL import Image\n",
    "\n",
    "im = Image.open('test1.png')\n",
    "pix = im.load()\n",
    "w, h = im.size\n",
    "\n",
    "pixel_list = []\n",
    "for x in range(0, w):\n",
    "    for y in range(0, h):\n",
    "        pixel_list.append(int(255 - sum(pix[y, x][0:3]) / 3))\n",
    "        \n",
    "for x in range(0, w):\n",
    "    print()\n",
    "    for y in range(0, h):\n",
    "        print(1 if pixel_list[x*28 + y] >= 128 else ' ', end=' ')\n",
    "        \n",
    "clf.predict([pixel_list])\n"
   ]
  }
 ],
 "metadata": {
  "kernelspec": {
   "display_name": "Python 3",
   "language": "python",
   "name": "python3"
  },
  "language_info": {
   "codemirror_mode": {
    "name": "ipython",
    "version": 3
   },
   "file_extension": ".py",
   "mimetype": "text/x-python",
   "name": "python",
   "nbconvert_exporter": "python",
   "pygments_lexer": "ipython3",
   "version": "3.6.7"
  }
 },
 "nbformat": 4,
 "nbformat_minor": 2
}
