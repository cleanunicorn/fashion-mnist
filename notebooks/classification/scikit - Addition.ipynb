{
 "cells": [
  {
   "cell_type": "code",
   "execution_count": null,
   "metadata": {},
   "outputs": [],
   "source": [
    "import random\n",
    "\n",
    "from sklearn.tree import DecisionTreeClassifier\n",
    "\n",
    "clf = DecisionTreeClassifier()\n",
    "\n",
    "# Training dataset\n",
    "def f(x=0, y=0):\n",
    "    return x * x * x + y * 2 + y\n",
    "\n",
    "train = []\n",
    "train_label = []\n",
    "for i in range(1, 1000):\n",
    "    x = random.randint(1, 500)\n",
    "    y = random.randint(1, 500)\n",
    "    train.append([x, y])\n",
    "    train_label.append([f(x=x, y=y)])\n",
    "\n",
    "clf.fit(train, train_label)"
   ]
  },
  {
   "cell_type": "code",
   "execution_count": 63,
   "metadata": {},
   "outputs": [
    {
     "name": "stdout",
     "output_type": "stream",
     "text": [
      "Precision 34.64%\n"
     ]
    }
   ],
   "source": [
    "test = []\n",
    "test_count = 10000\n",
    "test_correct = 0\n",
    "for i in range(1, test_count):\n",
    "    x = random.randint(1, 500)\n",
    "    y = random.randint(1, 500)\n",
    "    prediction = clf.predict([[x, y]])\n",
    "    if f(x=x, y=y) == prediction[0]:\n",
    "        test_correct += 1\n",
    "\n",
    "print(\"Precision {0:.2%}\".format(test_correct / test_count))"
   ]
  }
 ],
 "metadata": {
  "kernelspec": {
   "display_name": "Python 3",
   "language": "python",
   "name": "python3"
  },
  "language_info": {
   "codemirror_mode": {
    "name": "ipython",
    "version": 3
   },
   "file_extension": ".py",
   "mimetype": "text/x-python",
   "name": "python",
   "nbconvert_exporter": "python",
   "pygments_lexer": "ipython3",
   "version": "3.6.7"
  }
 },
 "nbformat": 4,
 "nbformat_minor": 2
}
